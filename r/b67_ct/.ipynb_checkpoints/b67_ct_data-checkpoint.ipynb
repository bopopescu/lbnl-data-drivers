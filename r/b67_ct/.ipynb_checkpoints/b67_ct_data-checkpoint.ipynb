{
 "cells": [
  {
   "cell_type": "code",
   "execution_count": 1,
   "metadata": {},
   "outputs": [
    {
     "name": "stderr",
     "output_type": "stream",
     "text": [
      "Loading required package: data.table\n"
     ]
    }
   ],
   "source": [
    "#install.packages(\"data.table\")\n",
    "\n",
    "require(data.table)"
   ]
  },
  {
   "cell_type": "code",
   "execution_count": 2,
   "metadata": {},
   "outputs": [],
   "source": [
    "data=read.csv(\"b67 tw_2018-09-10.csv\" ,stringsAsFactors = FALSE)\n",
    "data2=read.csv(\"b67 tw_2018-10-05.csv\" ,stringsAsFactors = FALSE)\n",
    "weather=read.csv(\"HistorianChart.csv\" ,stringsAsFactors = FALSE)"
   ]
  },
  {
   "cell_type": "code",
   "execution_count": 3,
   "metadata": {},
   "outputs": [],
   "source": [
    "names(data) = c('time','flow','energy','supply', 'return')\n",
    "names(data2) = c('time','flow','energy','supply', 'return')\n",
    "names(weather) = c('time','wb', 'db')\n",
    "meter <- rbind( data, data2)\n",
    "\n",
    "meter$btu <- with(meter, (500*flow * (return-supply) / 12000))"
   ]
  },
  {
   "cell_type": "code",
   "execution_count": 4,
   "metadata": {},
   "outputs": [
    {
     "data": {
      "text/plain": [
       "[1] \"2018-09-06 14:16:30 UTC\""
      ]
     },
     "metadata": {},
     "output_type": "display_data"
    },
    {
     "data": {
      "text/plain": [
       "[1] \"2018-09-06 14:16:30 UTC\""
      ]
     },
     "metadata": {},
     "output_type": "display_data"
    }
   ],
   "source": [
    "strptime(meter$time[1], \"%m/%d/%Y %H:%M:%S\")\n",
    "meter$time <- strptime(meter$time, \"%m/%d/%Y %H:%M:%S\")\n",
    "meter$time[1]"
   ]
  },
  {
   "cell_type": "code",
   "execution_count": 5,
   "metadata": {},
   "outputs": [
    {
     "data": {
      "text/html": [
       "'2018-09-06T01:00:00-07:00 Los_Angeles'"
      ],
      "text/latex": [
       "'2018-09-06T01:00:00-07:00 Los\\_Angeles'"
      ],
      "text/markdown": [
       "'2018-09-06T01:00:00-07:00 Los_Angeles'"
      ],
      "text/plain": [
       "[1] \"2018-09-06T01:00:00-07:00 Los_Angeles\""
      ]
     },
     "metadata": {},
     "output_type": "display_data"
    },
    {
     "data": {
      "text/plain": [
       "[1] \"2018-09-06 01:00:00 UTC\""
      ]
     },
     "metadata": {},
     "output_type": "display_data"
    }
   ],
   "source": [
    "weather$time[2]\n",
    "weather$time <- strptime(weather$time, \"%Y-%m-%dT%H:%M:%S\")\n",
    "weather$time[2]"
   ]
  },
  {
   "cell_type": "code",
   "execution_count": 8,
   "metadata": {},
   "outputs": [
    {
     "name": "stderr",
     "output_type": "stream",
     "text": [
      "Warning message in is.na(secs):\n",
      "“is.na() applied to non-(list or vector) of type 'NULL'”ERROR while rich displaying an object: Error in format.POSIXlt(X[[i]], ...): invalid 'x' argument\n",
      "\n",
      "Traceback:\n",
      "1. FUN(X[[i]], ...)\n",
      "2. tryCatch(withCallingHandlers({\n",
      " .     rpr <- mime2repr[[mime]](obj)\n",
      " .     if (is.null(rpr)) \n",
      " .         return(NULL)\n",
      " .     prepare_content(is.raw(rpr), rpr)\n",
      " . }, error = error_handler), error = outer_handler)\n",
      "3. tryCatchList(expr, classes, parentenv, handlers)\n",
      "4. tryCatchOne(expr, names, parentenv, handlers[[1L]])\n",
      "5. doTryCatch(return(expr), name, parentenv, handler)\n",
      "6. withCallingHandlers({\n",
      " .     rpr <- mime2repr[[mime]](obj)\n",
      " .     if (is.null(rpr)) \n",
      " .         return(NULL)\n",
      " .     prepare_content(is.raw(rpr), rpr)\n",
      " . }, error = error_handler)\n",
      "7. mime2repr[[mime]](obj)\n",
      "8. repr_text.data.table(obj)\n",
      "9. NextMethod()\n",
      "10. repr_text.data.frame(obj)\n",
      "11. ellip_limit_arr(obj, ...)\n",
      "12. arr_parts_format(parts)\n",
      "13. structure(lapply(parts, arr_part_format), omit = attr(parts, \n",
      "  .     \"omit\"))\n",
      "14. lapply(parts, arr_part_format)\n",
      "15. FUN(X[[i]], ...)\n",
      "16. vapply(part, format, character(nrow(part)))\n",
      "17. FUN(X[[i]], ...)\n",
      "18. format.POSIXlt(X[[i]], ...)\n"
     ]
    },
    {
     "data": {},
     "metadata": {},
     "output_type": "display_data"
    }
   ],
   "source": [
    "meter5 <- head(meter)\n",
    "meter5"
   ]
  },
  {
   "cell_type": "code",
   "execution_count": 6,
   "metadata": {},
   "outputs": [
    {
     "ename": "ERROR",
     "evalue": "Error in forderv(x, by = rightcols): First column being ordered is type 'list', not yet supported\n",
     "output_type": "error",
     "traceback": [
      "Error in forderv(x, by = rightcols): First column being ordered is type 'list', not yet supported\nTraceback:\n",
      "1. setDT(meter)[, `:=`(db, setDT(weather)[meter, db, on = \"time\", \n .     roll = \"nearest\"])]",
      "2. `[.data.table`(setDT(meter), , `:=`(db, setDT(weather)[meter, \n .     db, on = \"time\", roll = \"nearest\"]))",
      "3. eval(jsub, SDenv, parent.frame())",
      "4. eval(jsub, SDenv, parent.frame())",
      "5. setDT(weather)[meter, db, on = \"time\", roll = \"nearest\"]",
      "6. `[.data.table`(setDT(weather), meter, db, on = \"time\", roll = \"nearest\")",
      "7. forderv(x, by = rightcols)"
     ]
    }
   ],
   "source": [
    "# https://stackoverflow.com/questions/31818444/join-two-data-frames-in-r-based-on-closest-timestamp\n",
    "# Here, val2 column is created by performing a join on the column date with roll = \"nearest\" option. \n",
    "# For each row of table1$date, the closest matching row from table2$date is computed, \n",
    "# and  val2 for corresponding row is extracted.\n",
    "#\n",
    "# setDT(table1)[, val2 := setDT(table2)[table1, val2, on = \"date\", roll = \"nearest\"]]\n",
    "\n",
    "setDT(meter)[, db := setDT(weather)[ meter, db, on = \"time\", roll = \"nearest\"]]"
   ]
  },
  {
   "cell_type": "code",
   "execution_count": null,
   "metadata": {},
   "outputs": [],
   "source": [
    "plot(energy$time, energy$btu, type='l')"
   ]
  },
  {
   "cell_type": "code",
   "execution_count": null,
   "metadata": {},
   "outputs": [],
   "source": [
    "?plot"
   ]
  },
  {
   "cell_type": "markdown",
   "metadata": {},
   "source": [
    "energy$btu <- with(energy, (flow * (return-supply) /12))"
   ]
  },
  {
   "cell_type": "code",
   "execution_count": null,
   "metadata": {},
   "outputs": [],
   "source": [
    "weather <- read.csv('HistorianChart.csv')\n",
    "names(weather) = c('time', 'wb', 'db')"
   ]
  },
  {
   "cell_type": "code",
   "execution_count": null,
   "metadata": {},
   "outputs": [],
   "source": [
    "summary(weather)"
   ]
  },
  {
   "cell_type": "code",
   "execution_count": null,
   "metadata": {},
   "outputs": [],
   "source": [
    "str(weather)"
   ]
  },
  {
   "cell_type": "code",
   "execution_count": null,
   "metadata": {},
   "outputs": [],
   "source": [
    "head(as.timeDate(weather$time))"
   ]
  },
  {
   "cell_type": "code",
   "execution_count": null,
   "metadata": {},
   "outputs": [],
   "source": [
    "??timeDate"
   ]
  },
  {
   "cell_type": "code",
   "execution_count": null,
   "metadata": {},
   "outputs": [],
   "source": []
  }
 ],
 "metadata": {
  "kernelspec": {
   "display_name": "R",
   "language": "R",
   "name": "ir"
  },
  "language_info": {
   "codemirror_mode": "r",
   "file_extension": ".r",
   "mimetype": "text/x-r-source",
   "name": "R",
   "pygments_lexer": "r",
   "version": "3.4.1"
  }
 },
 "nbformat": 4,
 "nbformat_minor": 2
}
